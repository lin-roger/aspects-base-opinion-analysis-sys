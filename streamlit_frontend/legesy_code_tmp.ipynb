{
 "cells": [
  {
   "cell_type": "code",
   "execution_count": null,
   "metadata": {},
   "outputs": [],
   "source": [
    "# body = {\n",
    "#     \"_source\": False,\n",
    "#     \"query\": {\n",
    "#         \"nested\": {\n",
    "#             \"path\": \"context_aste\",\n",
    "#             \"query\": {\n",
    "#                 \"match\": {\n",
    "#                     \"context_aste.a\": query_word,\n",
    "#                 }\n",
    "#             },\n",
    "#             \"inner_hits\": {},\n",
    "#         },\n",
    "#         \"nested\": {\n",
    "#             \"path\": \"title_aste\",\n",
    "#             \"query\": {\n",
    "#                 \"match\": {\n",
    "#                     \"title_aste.a\": query_word,\n",
    "#                 }\n",
    "#             },\n",
    "#             \"inner_hits\": {},\n",
    "#         },\n",
    "#         \"nested\": {\n",
    "#             \"path\": \"comments.content_aste\",\n",
    "#             \"query\": {\n",
    "#                 \"match\": {\n",
    "#                     \"comments.content_aste.a\": query_word,\n",
    "#                 }\n",
    "#             },\n",
    "#             \"inner_hits\": {},\n",
    "#         },\n",
    "#     },\n",
    "# }"
   ]
  },
  {
   "cell_type": "code",
   "execution_count": null,
   "metadata": {},
   "outputs": [],
   "source": [
    "# res = st.session_state.es.search(\n",
    "#     index=\"dcard\",\n",
    "#     body=body,\n",
    "#     filter_path=[\"hits.hits.inner_hits.*.hits.hits._source.*\", \"hits.total.value\"],\n",
    "# )\n",
    "# aop_list = list(\n",
    "#     chain.from_iterable(glom(res.body, \"hits.hits.**.hits.hits.*._source\"))\n",
    "# )\n",
    "# aop_df = pd.DataFrame.from_dict(aop_list)\n",
    "# aop_df[\"t\"] = aop_df[\"p\"].map(\n",
    "#     lambda x: \"POS\" if x >= 6 else \"NAT\" if x > 4 else \"NEG\"\n",
    "# )\n",
    "# return aop_df"
   ]
  }
 ],
 "metadata": {
  "kernelspec": {
   "display_name": "Python 3",
   "language": "python",
   "name": "python3"
  },
  "language_info": {
   "name": "python",
   "version": "3.11.10"
  }
 },
 "nbformat": 4,
 "nbformat_minor": 2
}
