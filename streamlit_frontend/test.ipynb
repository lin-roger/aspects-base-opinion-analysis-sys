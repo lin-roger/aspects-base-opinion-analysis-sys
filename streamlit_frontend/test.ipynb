{
 "cells": [
  {
   "cell_type": "code",
   "execution_count": 1,
   "metadata": {},
   "outputs": [],
   "source": [
    "from glom import glom\n",
    "from elasticsearch import Elasticsearch, helpers\n",
    "import eland as ed\n",
    "import pandas as pd\n",
    "from itertools import chain\n",
    "from collections import Counter"
   ]
  },
  {
   "cell_type": "code",
   "execution_count": 2,
   "metadata": {},
   "outputs": [
    {
     "name": "stderr",
     "output_type": "stream",
     "text": [
      "/usr/local/lib/python3.12/site-packages/elasticsearch/_sync/client/__init__.py:400: SecurityWarning: Connecting to 'https://elasticsearch:9200' using TLS with verify_certs=False is insecure\n",
      "  _transport = transport_class(\n"
     ]
    }
   ],
   "source": [
    "# es = Elasticsearch(\n",
    "#     \"https://elasticsearch:9200\",\n",
    "#     api_key=\"YjVwMHpKSUI1aVdrRE5nRHhQN0o6UkxLTGRoUGRSVDZic3NCU2IzNFVnQQ==\",\n",
    "#     verify_certs=False,\n",
    "# )\n",
    "Elasticsearch(\"http://elasticsearch:9200\", verify_certs=False, basic_auth=(\"elastic\", \"123456\"))"
   ]
  },
  {
   "cell_type": "code",
   "execution_count": 4,
   "metadata": {},
   "outputs": [
    {
     "name": "stderr",
     "output_type": "stream",
     "text": [
      "/usr/local/lib/python3.12/site-packages/urllib3/connectionpool.py:1099: InsecureRequestWarning: Unverified HTTPS request is being made to host 'elasticsearch'. Adding certificate verification is strongly advised. See: https://urllib3.readthedocs.io/en/latest/advanced-usage.html#tls-warnings\n",
      "  warnings.warn(\n"
     ]
    },
    {
     "data": {
      "text/plain": [
       "ObjectApiResponse({'name': '75a29ff81cd8', 'cluster_name': 'docker-cluster', 'cluster_uuid': 'nLCYgzN-QquM4_GXqy3jyQ', 'version': {'number': '8.15.1', 'build_flavor': 'default', 'build_type': 'docker', 'build_hash': '253e8544a65ad44581194068936f2a5d57c2c051', 'build_date': '2024-09-02T22:04:47.310170297Z', 'build_snapshot': False, 'lucene_version': '9.11.1', 'minimum_wire_compatibility_version': '7.17.0', 'minimum_index_compatibility_version': '7.0.0'}, 'tagline': 'You Know, for Search'})"
      ]
     },
     "execution_count": 4,
     "metadata": {},
     "output_type": "execute_result"
    }
   ],
   "source": [
    "es.info()"
   ]
  },
  {
   "cell_type": "code",
   "execution_count": 5,
   "metadata": {},
   "outputs": [
    {
     "ename": "TypeError",
     "evalue": "IndicesClient.get() missing 1 required keyword-only argument: 'index'",
     "output_type": "error",
     "traceback": [
      "\u001b[0;31m---------------------------------------------------------------------------\u001b[0m",
      "\u001b[0;31mTypeError\u001b[0m                                 Traceback (most recent call last)",
      "Cell \u001b[0;32mIn[5], line 1\u001b[0m\n\u001b[0;32m----> 1\u001b[0m \u001b[43mes\u001b[49m\u001b[38;5;241;43m.\u001b[39;49m\u001b[43mindices\u001b[49m\u001b[38;5;241;43m.\u001b[39;49m\u001b[43mget\u001b[49m\u001b[43m(\u001b[49m\u001b[43m)\u001b[49m\n",
      "File \u001b[0;32m/usr/local/lib/python3.12/site-packages/elasticsearch/_sync/client/utils.py:446\u001b[0m, in \u001b[0;36m_rewrite_parameters.<locals>.wrapper.<locals>.wrapped\u001b[0;34m(*args, **kwargs)\u001b[0m\n\u001b[1;32m    443\u001b[0m         \u001b[38;5;28;01mexcept\u001b[39;00m \u001b[38;5;167;01mKeyError\u001b[39;00m:\n\u001b[1;32m    444\u001b[0m             \u001b[38;5;28;01mpass\u001b[39;00m\n\u001b[0;32m--> 446\u001b[0m \u001b[38;5;28;01mreturn\u001b[39;00m \u001b[43mapi\u001b[49m\u001b[43m(\u001b[49m\u001b[38;5;241;43m*\u001b[39;49m\u001b[43margs\u001b[49m\u001b[43m,\u001b[49m\u001b[43m \u001b[49m\u001b[38;5;241;43m*\u001b[39;49m\u001b[38;5;241;43m*\u001b[39;49m\u001b[43mkwargs\u001b[49m\u001b[43m)\u001b[49m\n",
      "\u001b[0;31mTypeError\u001b[0m: IndicesClient.get() missing 1 required keyword-only argument: 'index'"
     ]
    }
   ],
   "source": [
    "es.indices.get()"
   ]
  },
  {
   "cell_type": "code",
   "execution_count": 73,
   "metadata": {},
   "outputs": [],
   "source": [
    "q_word = \"A酸\"\n",
    "body = {\n",
    "    \"_source\": False,\n",
    "    \"query\": {\n",
    "        \"nested\": {\n",
    "            \"path\": \"context_aste\",\n",
    "            \"query\": {\n",
    "                \"match\": {\n",
    "                    \"context_aste.a\": q_word,\n",
    "                }\n",
    "            },\n",
    "            \"inner_hits\": {},\n",
    "        },\n",
    "        \"nested\": {\n",
    "            \"path\": \"title_aste\",\n",
    "            \"query\": {\n",
    "                \"match\": {\n",
    "                    \"title_aste.a\": q_word,\n",
    "                }\n",
    "            },\n",
    "            \"inner_hits\": {},\n",
    "        },\n",
    "        \"nested\": {\n",
    "            \"path\": \"comments.content_aste\",\n",
    "            \"query\": {\n",
    "                \"match\": {\n",
    "                    \"comments.content_aste.a\": q_word,\n",
    "                }\n",
    "            },\n",
    "            \"inner_hits\": {},\n",
    "        },\n",
    "    },\n",
    "}\n"
   ]
  },
  {
   "cell_type": "code",
   "execution_count": 104,
   "metadata": {},
   "outputs": [
    {
     "name": "stderr",
     "output_type": "stream",
     "text": [
      "/usr/local/lib/python3.12/site-packages/urllib3/connectionpool.py:1099: InsecureRequestWarning: Unverified HTTPS request is being made to host 'elasticsearch'. Adding certificate verification is strongly advised. See: https://urllib3.readthedocs.io/en/latest/advanced-usage.html#tls-warnings\n",
      "  warnings.warn(\n"
     ]
    }
   ],
   "source": [
    "tmp = es.search(\n",
    "    index=\"dcard\",\n",
    "    body=body,\n",
    "    filter_path=[\"hits.hits.inner_hits.*.hits.hits._source.*\", \"hits.total.value\"],\n",
    ")\n",
    "tmp = list(chain.from_iterable(glom(tmp.body, \"hits.hits.**.hits.hits.*._source\")))"
   ]
  },
  {
   "cell_type": "code",
   "execution_count": 142,
   "metadata": {},
   "outputs": [],
   "source": [
    "tag_counter = Counter(tmp[\"t\"])\n",
    "\n",
    "pos_o_counter = Counter(tmp.o[tmp.t == \"POS\"])\n",
    "neg_o_counter = Counter(tmp.o[tmp.t == \"NEG\"])\n",
    "nat_o_counter = Counter(tmp.o[tmp.t == \"NAT\"])"
   ]
  },
  {
   "cell_type": "code",
   "execution_count": 143,
   "metadata": {},
   "outputs": [
    {
     "data": {
      "text/plain": [
       "dict_items([('NAT', 4), ('POS', 1)])"
      ]
     },
     "execution_count": 143,
     "metadata": {},
     "output_type": "execute_result"
    }
   ],
   "source": [
    "tag_counter.items()"
   ]
  },
  {
   "cell_type": "code",
   "execution_count": 144,
   "metadata": {},
   "outputs": [],
   "source": [
    "def aop_df_2_data(aop_df):\n",
    "    tag_counter = Counter(aop_df[\"t\"])\n",
    "    return [\n",
    "        {\n",
    "            \"value\": v,\n",
    "            \"name\": k,\n",
    "            \"children\": [\n",
    "                {\"value\": c, \"name\": w}\n",
    "                for w, c in Counter(aop_df.o[aop_df.t == k]).items()\n",
    "            ],\n",
    "        }\n",
    "        for k, v in tag_counter.items()\n",
    "    ]"
   ]
  },
  {
   "cell_type": "code",
   "execution_count": 145,
   "metadata": {},
   "outputs": [
    {
     "data": {
      "text/plain": [
       "[{'value': 4,\n",
       "  'name': 'NAT',\n",
       "  'children': [{'value': 1, 'name': '口服'},\n",
       "   {'value': 1, 'name': '減少'},\n",
       "   {'value': 1, 'name': '去'},\n",
       "   {'value': 1, 'name': '吃'}]},\n",
       " {'value': 1, 'name': 'POS', 'children': [{'value': 1, 'name': '好用'}]}]"
      ]
     },
     "execution_count": 145,
     "metadata": {},
     "output_type": "execute_result"
    }
   ],
   "source": [
    "aop_df_2_data(tmp)"
   ]
  },
  {
   "cell_type": "code",
   "execution_count": null,
   "metadata": {},
   "outputs": [],
   "source": []
  }
 ],
 "metadata": {
  "kernelspec": {
   "display_name": "Python 3",
   "language": "python",
   "name": "python3"
  },
  "language_info": {
   "codemirror_mode": {
    "name": "ipython",
    "version": 3
   },
   "file_extension": ".py",
   "mimetype": "text/x-python",
   "name": "python",
   "nbconvert_exporter": "python",
   "pygments_lexer": "ipython3",
   "version": "3.12.7"
  }
 },
 "nbformat": 4,
 "nbformat_minor": 2
}
