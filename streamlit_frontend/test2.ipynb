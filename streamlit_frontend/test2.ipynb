{
 "cells": [
  {
   "cell_type": "code",
   "execution_count": 1,
   "metadata": {},
   "outputs": [
    {
     "name": "stderr",
     "output_type": "stream",
     "text": [
      "/usr/local/lib/python3.11/site-packages/tqdm/auto.py:21: TqdmWarning: IProgress not found. Please update jupyter and ipywidgets. See https://ipywidgets.readthedocs.io/en/stable/user_install.html\n",
      "  from .autonotebook import tqdm as notebook_tqdm\n"
     ]
    }
   ],
   "source": [
    "from glom import glom\n",
    "from bertopic import BERTopic\n",
    "from elasticsearch import helpers, Elasticsearch\n",
    "from sklearn.feature_extraction.text import CountVectorizer\n",
    "from umap import UMAP\n",
    "\n",
    "import pandas as pd\n",
    "import numpy as np"
   ]
  },
  {
   "cell_type": "code",
   "execution_count": 2,
   "metadata": {},
   "outputs": [],
   "source": [
    "es = Elasticsearch(\n",
    "    \"http://host.docker.internal:9200\",\n",
    "    verify_certs=False,\n",
    "    basic_auth=(\"elastic\", \"123456\"),\n",
    ")\n",
    "index = \"docs\""
   ]
  },
  {
   "cell_type": "code",
   "execution_count": 3,
   "metadata": {},
   "outputs": [
    {
     "data": {
      "text/plain": [
       "ObjectApiResponse({'name': 'f7f569dd80ae', 'cluster_name': 'docker-cluster', 'cluster_uuid': 'CW97Ie5ZSPKXZafOAxIPeQ', 'version': {'number': '8.15.3', 'build_flavor': 'default', 'build_type': 'docker', 'build_hash': 'f97532e680b555c3a05e73a74c28afb666923018', 'build_date': '2024-10-09T22:08:00.328917561Z', 'build_snapshot': False, 'lucene_version': '9.11.1', 'minimum_wire_compatibility_version': '7.17.0', 'minimum_index_compatibility_version': '7.0.0'}, 'tagline': 'You Know, for Search'})"
      ]
     },
     "execution_count": 3,
     "metadata": {},
     "output_type": "execute_result"
    }
   ],
   "source": [
    "es.info()"
   ]
  },
  {
   "cell_type": "code",
   "execution_count": 4,
   "metadata": {},
   "outputs": [],
   "source": [
    "def query_vec(query_word):\n",
    "    body = {\n",
    "        \"_source\": [\"title\", \"title_vector\", \"context\", \"context_vector\", \"date\"],\n",
    "        \"query\": {\n",
    "            \"multi_match\": {\n",
    "                \"query\": query_word,\n",
    "                \"fields\": [\"title\", \"context\"],\n",
    "                \"minimum_should_match\": \"50%\",\n",
    "            },\n",
    "        },\n",
    "    }\n",
    "    res = list(\n",
    "        helpers.scan(\n",
    "            es,\n",
    "            query=body,\n",
    "            index=index,\n",
    "        )\n",
    "    )\n",
    "    assert len(res) != 0\n",
    "    vec_df = pd.DataFrame.from_dict(glom(res, \"*._source\"))\n",
    "    return vec_df"
   ]
  },
  {
   "cell_type": "code",
   "execution_count": 24,
   "metadata": {},
   "outputs": [],
   "source": [
    "def init_topic_model(num_of_docs: int):\n",
    "    def tokenize_zh(text: str):\n",
    "        tokens = es.indices.analyze(\n",
    "            index=\"dcard\", analyzer=\"ik_smart\", text=text\n",
    "        ).body\n",
    "        tokens = glom(tokens, \"tokens.*.token\")\n",
    "        return tokens\n",
    "\n",
    "    n_components = 5\n",
    "    umap_model = UMAP(\n",
    "        n_neighbors=max(\n",
    "            2, round(num_of_docs * 0.2)\n",
    "        ),  # n_neighbors must be greater than 1\n",
    "        n_components=n_components,\n",
    "        min_dist=0.0,\n",
    "        metric=\"cosine\",\n",
    "        init=(\n",
    "            \"spectral\" if num_of_docs > n_components + 1 else \"random\"\n",
    "        ),  # lmcinnes umap issue #201\n",
    "    )\n",
    "\n",
    "    topic_model = BERTopic(\n",
    "        language=\"chinese\",\n",
    "        umap_model=umap_model,\n",
    "        vectorizer_model=CountVectorizer(tokenizer=tokenize_zh),\n",
    "        min_topic_size=max(\n",
    "            2, round(num_of_docs * 0.05)\n",
    "        ),  # Min cluster size must be greater than one\n",
    "    )\n",
    "    return topic_model"
   ]
  },
  {
   "cell_type": "code",
   "execution_count": 25,
   "metadata": {},
   "outputs": [],
   "source": [
    "def fit_topic_model(vec_df):\n",
    "    docs = vec_df[\"context\"].tolist()\n",
    "    embeddings = np.array(vec_df[\"context_vector\"].tolist())\n",
    "    timestamps = vec_df[\"date\"].tolist()\n",
    "\n",
    "    topic_model = init_topic_model(len(docs))\n",
    "    topic_model.fit(docs, embeddings)\n",
    "    topics_over_time = topic_model.topics_over_time(\n",
    "        docs, timestamps, nr_bins=20, datetime_format=\"%Y-%m-%d %H:%M:%S.%f\"\n",
    "    )\n",
    "\n",
    "    return topic_model, topics_over_time"
   ]
  },
  {
   "cell_type": "code",
   "execution_count": 26,
   "metadata": {},
   "outputs": [],
   "source": [
    "def gen_dtm(query_word):\n",
    "    vec_df = query_vec(query_word)\n",
    "    _, topics_over_time_df = fit_topic_model(vec_df)\n",
    "    return topics_over_time_df"
   ]
  },
  {
   "cell_type": "code",
   "execution_count": 27,
   "metadata": {},
   "outputs": [
    {
     "data": {
      "text/html": [
       "<div>\n",
       "<style scoped>\n",
       "    .dataframe tbody tr th:only-of-type {\n",
       "        vertical-align: middle;\n",
       "    }\n",
       "\n",
       "    .dataframe tbody tr th {\n",
       "        vertical-align: top;\n",
       "    }\n",
       "\n",
       "    .dataframe thead th {\n",
       "        text-align: right;\n",
       "    }\n",
       "</style>\n",
       "<table border=\"1\" class=\"dataframe\">\n",
       "  <thead>\n",
       "    <tr style=\"text-align: right;\">\n",
       "      <th></th>\n",
       "      <th>Topic</th>\n",
       "      <th>Words</th>\n",
       "      <th>Frequency</th>\n",
       "      <th>Timestamp</th>\n",
       "    </tr>\n",
       "  </thead>\n",
       "  <tbody>\n",
       "    <tr>\n",
       "      <th>0</th>\n",
       "      <td>-1</td>\n",
       "      <td>金針菇, 瑄, 林, 觀看, 更新</td>\n",
       "      <td>1</td>\n",
       "      <td>2024-11-04 21:28:04.461035</td>\n",
       "    </tr>\n",
       "    <tr>\n",
       "      <th>1</th>\n",
       "      <td>-1</td>\n",
       "      <td>是想, 為何, 秘, po, 家</td>\n",
       "      <td>1</td>\n",
       "      <td>2024-11-04 22:24:58.756250</td>\n",
       "    </tr>\n",
       "    <tr>\n",
       "      <th>2</th>\n",
       "      <td>-1</td>\n",
       "      <td>粉, 家, 根本, 腦, 超</td>\n",
       "      <td>1</td>\n",
       "      <td>2024-11-05 00:16:33.452750</td>\n",
       "    </tr>\n",
       "    <tr>\n",
       "      <th>3</th>\n",
       "      <td>-1</td>\n",
       "      <td>家, 影片, 頻道, 邪教, 課程</td>\n",
       "      <td>1</td>\n",
       "      <td>2024-11-05 06:47:04.890500</td>\n",
       "    </tr>\n",
       "    <tr>\n",
       "      <th>4</th>\n",
       "      <td>-1</td>\n",
       "      <td>課程, 攻擊, 一直, 議員, 現在</td>\n",
       "      <td>1</td>\n",
       "      <td>2024-11-05 10:30:14.283500</td>\n",
       "    </tr>\n",
       "    <tr>\n",
       "      <th>5</th>\n",
       "      <td>-1</td>\n",
       "      <td>傑, 揚, 講話, youtube, youtube.com</td>\n",
       "      <td>1</td>\n",
       "      <td>2024-11-05 15:09:11.024750</td>\n",
       "    </tr>\n",
       "  </tbody>\n",
       "</table>\n",
       "</div>"
      ],
      "text/plain": [
       "   Topic                           Words  Frequency                  Timestamp\n",
       "0     -1               金針菇, 瑄, 林, 觀看, 更新          1 2024-11-04 21:28:04.461035\n",
       "1     -1                是想, 為何, 秘, po, 家          1 2024-11-04 22:24:58.756250\n",
       "2     -1                  粉, 家, 根本, 腦, 超          1 2024-11-05 00:16:33.452750\n",
       "3     -1               家, 影片, 頻道, 邪教, 課程          1 2024-11-05 06:47:04.890500\n",
       "4     -1              課程, 攻擊, 一直, 議員, 現在          1 2024-11-05 10:30:14.283500\n",
       "5     -1  傑, 揚, 講話, youtube, youtube.com          1 2024-11-05 15:09:11.024750"
      ]
     },
     "execution_count": 27,
     "metadata": {},
     "output_type": "execute_result"
    }
   ],
   "source": [
    "gen_dtm(\"網紅\")"
   ]
  },
  {
   "cell_type": "code",
   "execution_count": null,
   "metadata": {},
   "outputs": [],
   "source": []
  }
 ],
 "metadata": {
  "kernelspec": {
   "display_name": "Python 3",
   "language": "python",
   "name": "python3"
  },
  "language_info": {
   "codemirror_mode": {
    "name": "ipython",
    "version": 3
   },
   "file_extension": ".py",
   "mimetype": "text/x-python",
   "name": "python",
   "nbconvert_exporter": "python",
   "pygments_lexer": "ipython3",
   "version": "3.11.10"
  }
 },
 "nbformat": 4,
 "nbformat_minor": 2
}
