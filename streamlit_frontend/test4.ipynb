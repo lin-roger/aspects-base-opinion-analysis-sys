{
 "cells": [
  {
   "cell_type": "code",
   "execution_count": 1,
   "metadata": {},
   "outputs": [
    {
     "name": "stdout",
     "output_type": "stream",
     "text": [
      "/workdir\n"
     ]
    },
    {
     "name": "stderr",
     "output_type": "stream",
     "text": [
      "/usr/local/lib/python3.11/site-packages/tqdm/auto.py:21: TqdmWarning: IProgress not found. Please update jupyter and ipywidgets. See https://ipywidgets.readthedocs.io/en/stable/user_install.html\n",
      "  from .autonotebook import tqdm as notebook_tqdm\n"
     ]
    }
   ],
   "source": [
    "%cd /workdir\n",
    "from elasticsearch import Elasticsearch, helpers\n",
    "import yaml\n",
    "import pandas as pd\n",
    "import numpy as np\n",
    "import eland as ed\n",
    "from glom import glom\n",
    "from bertopic import BERTopic"
   ]
  },
  {
   "cell_type": "code",
   "execution_count": 2,
   "metadata": {},
   "outputs": [],
   "source": [
    "with open(\"config.yaml\", \"r\") as stream:\n",
    "    config = yaml.safe_load(stream)"
   ]
  },
  {
   "cell_type": "code",
   "execution_count": 3,
   "metadata": {},
   "outputs": [
    {
     "name": "stderr",
     "output_type": "stream",
     "text": [
      "2024-11-14 14:08:51,588 - BERTopic - WARNING: You are loading a BERTopic model without explicitly defining an embedding model. If you want to also load in an embedding model, make sure to use `BERTopic.load(my_model, embedding_model=my_embedding_model)`.\n"
     ]
    }
   ],
   "source": [
    "allow_pos = set(config[\"allow_pos\"])\n",
    "index = config[\"index\"]\n",
    "topic_model = BERTopic.load(\"./topics_model_persistent\")"
   ]
  },
  {
   "cell_type": "code",
   "execution_count": 4,
   "metadata": {},
   "outputs": [],
   "source": [
    "es = Elasticsearch(\n",
    "    \"http://elasticsearch:9200\",\n",
    "    verify_certs=False,\n",
    "    basic_auth=(\"elastic\", \"123456\"),\n",
    ")"
   ]
  },
  {
   "cell_type": "code",
   "execution_count": 5,
   "metadata": {},
   "outputs": [],
   "source": [
    "df = ed.DataFrame(\n",
    "    es,\n",
    "    index,\n",
    "    columns=[\"title_token\", \"context_token\", \"context_tag\", \"context_vector\", \"date\"],\n",
    ")"
   ]
  },
  {
   "cell_type": "code",
   "execution_count": 6,
   "metadata": {},
   "outputs": [],
   "source": [
    "query_word = \"台積電\""
   ]
  },
  {
   "cell_type": "code",
   "execution_count": 28,
   "metadata": {},
   "outputs": [],
   "source": [
    "# body = {\n",
    "#     \"bool\": {\n",
    "#         \"should\": [\n",
    "#             {\"term\": {\"title_token.keyword\": query_word}},\n",
    "#             {\"term\": {\"context_token.keyword\": query_word}},\n",
    "#         ],\n",
    "#         \"must\": [\n",
    "#             {\n",
    "#                 \"range\": {\n",
    "#                     \"date\": {\n",
    "#                         \"gte\": \"2024-10-14\",\n",
    "#                         \"lte\": \"2024-11-14\",\n",
    "#                         \"time_zone\": \"+08:00\",\n",
    "#                         \"format\": \"yyyy-MM-dd\",\n",
    "#                     },\n",
    "#                 }\n",
    "#             },\n",
    "#         ],\n",
    "#     }\n",
    "# }\n",
    "body = {\n",
    "    \"query\": {\n",
    "        \"bool\": {\n",
    "            \"filter\": [\n",
    "                {\n",
    "                    \"bool\": {\n",
    "                        \"should\": [\n",
    "                            {\"term\": {\"title_token.keyword\": query_word}},\n",
    "                            {\"term\": {\"context_token.keyword\": query_word}},\n",
    "                        ],\n",
    "                    }\n",
    "                },\n",
    "                {\n",
    "                    \"range\": {\n",
    "                        \"date\": {\n",
    "                            \"gte\": \"2024-10-14\",\n",
    "                            \"lte\": \"2024-11-14\",\n",
    "                            \"time_zone\": \"+08:00\",\n",
    "                            \"format\": \"yyyy-MM-dd\",\n",
    "                        },\n",
    "                    }\n",
    "                },\n",
    "            ]\n",
    "        }\n",
    "    }\n",
    "}"
   ]
  },
  {
   "cell_type": "code",
   "execution_count": null,
   "metadata": {},
   "outputs": [],
   "source": []
  },
  {
   "cell_type": "code",
   "execution_count": null,
   "metadata": {},
   "outputs": [],
   "source": []
  },
  {
   "cell_type": "code",
   "execution_count": null,
   "metadata": {},
   "outputs": [],
   "source": []
  },
  {
   "cell_type": "code",
   "execution_count": null,
   "metadata": {},
   "outputs": [],
   "source": [
    "def tag_filter_by_pos(tag_list, pos_list):\n",
    "    if not tag_list:\n",
    "        return \"\"\n",
    "    cleaned_tag_list = [tag for tag, pos in zip(tag_list, pos_list) if pos in allow_pos]\n",
    "    return \" \".join(cleaned_tag_list)\n",
    "\n",
    "\n",
    "def query_vec(query_word):\n",
    "    body = {\n",
    "        # \"_source\": [\"title\", \"title_vector\", \"context\", \"context_vector\", \"date\"],\n",
    "        \"_source\": [\"context_token\", \"context_tag\", \"context_vector\", \"date\"],\n",
    "        \"query\": {\n",
    "            \"multi_match\": {\n",
    "                \"query\": query_word,\n",
    "                \"fields\": [\"title\", \"context\"],\n",
    "                \"minimum_should_match\": \"50%\",\n",
    "            },\n",
    "        },\n",
    "    }\n",
    "    res = list(\n",
    "        helpers.scan(\n",
    "            es,\n",
    "            query=body,\n",
    "            index=index,\n",
    "        )\n",
    "    )\n",
    "    assert len(res) != 0\n",
    "    vec_df = pd.DataFrame.from_dict(glom(res, \"*._source\"))\n",
    "    vec_df = vec_df[\n",
    "        vec_df[\"context_token\"].apply(lambda x: x is not None)\n",
    "        & vec_df[\"context_vector\"].apply(lambda x: isinstance(x, list))\n",
    "    ]\n",
    "    vec_df[\"text\"] = vec_df.apply(\n",
    "        lambda x: tag_filter_by_pos(x[\"context_token\"], x[\"context_tag\"]), axis=1\n",
    "    )\n",
    "    return vec_df\n",
    "\n",
    "\n",
    "def fit_topic_model(vec_df):\n",
    "    docs = vec_df[\"text\"].tolist()\n",
    "    vecs = np.array(vec_df[\"context_vector\"].tolist())\n",
    "    timestamps = vec_df[\"date\"].tolist()\n",
    "    topic_model.fit(docs, vecs)\n",
    "    topics_over_time = topic_model.topics_over_time(docs, timestamps)\n",
    "    return topics_over_time\n",
    "\n",
    "\n",
    "def gen_dtm(query_word):\n",
    "    vec_df = query_vec(query_word)\n",
    "    topics_over_time_df = fit_topic_model(vec_df)\n",
    "    return topic_model.visualize_topics_over_time(topics_over_time_df)"
   ]
  },
  {
   "cell_type": "code",
   "execution_count": null,
   "metadata": {},
   "outputs": [],
   "source": [
    "df = query_vec(\"美國\")"
   ]
  },
  {
   "cell_type": "code",
   "execution_count": null,
   "metadata": {},
   "outputs": [],
   "source": [
    "vec_df = df"
   ]
  },
  {
   "cell_type": "code",
   "execution_count": null,
   "metadata": {},
   "outputs": [],
   "source": [
    "docs = vec_df[\"text\"].tolist()\n",
    "vecs = np.array(vec_df[\"context_vector\"].tolist())\n",
    "timestamps = vec_df[\"date\"].tolist()\n",
    "# topic_model.fit(docs, vecs)\n",
    "# topic_model.transform()"
   ]
  },
  {
   "cell_type": "code",
   "execution_count": null,
   "metadata": {},
   "outputs": [],
   "source": [
    "topics, _ = topic_model.transform(docs, vecs)"
   ]
  },
  {
   "cell_type": "code",
   "execution_count": null,
   "metadata": {},
   "outputs": [],
   "source": [
    "topic_model.topics_over_time(\n",
    "    docs=docs,\n",
    "    topics=topics.tolist(),\n",
    "    timestamps=timestamps,\n",
    "    nr_bins=20,\n",
    "    datetime_format=\"%Y-%m-%d %H:%M:%S.%f\",\n",
    ")"
   ]
  },
  {
   "cell_type": "code",
   "execution_count": null,
   "metadata": {},
   "outputs": [],
   "source": []
  }
 ],
 "metadata": {
  "kernelspec": {
   "display_name": "Python 3",
   "language": "python",
   "name": "python3"
  },
  "language_info": {
   "codemirror_mode": {
    "name": "ipython",
    "version": 3
   },
   "file_extension": ".py",
   "mimetype": "text/x-python",
   "name": "python",
   "nbconvert_exporter": "python",
   "pygments_lexer": "ipython3",
   "version": "3.11.10"
  }
 },
 "nbformat": 4,
 "nbformat_minor": 2
}
