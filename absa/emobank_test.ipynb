{
 "cells": [
  {
   "cell_type": "code",
   "execution_count": 1,
   "metadata": {},
   "outputs": [],
   "source": [
    "from icecream import install, ic\n",
    "from pprint import pprint\n",
    "from tqdm import tqdm\n",
    "\n",
    "install()\n",
    "ic.disable()"
   ]
  },
  {
   "cell_type": "code",
   "execution_count": 2,
   "metadata": {},
   "outputs": [
    {
     "name": "stderr",
     "output_type": "stream",
     "text": [
      "/usr/local/lib/python3.11/site-packages/tqdm/auto.py:21: TqdmWarning: IProgress not found. Please update jupyter and ipywidgets. See https://ipywidgets.readthedocs.io/en/stable/user_install.html\n",
      "  from .autonotebook import tqdm as notebook_tqdm\n",
      "2024-10-31 03:30:20.760290: E external/local_xla/xla/stream_executor/cuda/cuda_fft.cc:485] Unable to register cuFFT factory: Attempting to register factory for plugin cuFFT when one has already been registered\n",
      "2024-10-31 03:30:20.778994: E external/local_xla/xla/stream_executor/cuda/cuda_dnn.cc:8454] Unable to register cuDNN factory: Attempting to register factory for plugin cuDNN when one has already been registered\n",
      "2024-10-31 03:30:20.784538: E external/local_xla/xla/stream_executor/cuda/cuda_blas.cc:1452] Unable to register cuBLAS factory: Attempting to register factory for plugin cuBLAS when one has already been registered\n",
      "2024-10-31 03:30:20.797734: I tensorflow/core/platform/cpu_feature_guard.cc:210] This TensorFlow binary is optimized to use available CPU instructions in performance-critical operations.\n",
      "To enable the following instructions: AVX2 FMA, in other operations, rebuild TensorFlow with the appropriate compiler flags.\n",
      "2024-10-31 03:30:22.032301: W tensorflow/compiler/tf2tensorrt/utils/py_utils.cc:38] TF-TRT Warning: Could not find TensorRT\n"
     ]
    }
   ],
   "source": [
    "import pandas as pd\n",
    "import numpy as np\n",
    "import spacy_stanza\n",
    "import spacy\n",
    "from MyUtilty.emoBankSearch import EmoBankSearch"
   ]
  },
  {
   "cell_type": "code",
   "execution_count": 3,
   "metadata": {},
   "outputs": [],
   "source": [
    "nlp_latin = spacy.load(\"./vec\")\n",
    "ebs = EmoBankSearch(nlp_latin)"
   ]
  },
  {
   "cell_type": "code",
   "execution_count": 4,
   "metadata": {},
   "outputs": [],
   "source": [
    "CVAP = pd.read_csv('./ChineseEmoBank/CVAP_SD/CVAP_all_SD.csv', sep='\\t', index_col=\"No.\", dtype={\"Valence_Mean\": float})\n",
    "# CVAS = pd.read_csv('./ChineseEmoBank/CVAS_SD/CVAS_all.csv', sep='\\t', dtype={\"Valence_Mean\": float})\n",
    "# CVAT = pd.read_csv('./ChineseEmoBank/CVAT_SD/CVAT_all_SD.csv', sep='\\t', index_col=\"No.\", dtype={\"Valence_Mean\": float})\n",
    "CVAW = pd.read_csv('./ChineseEmoBank/CVAW_SD/CVAW_all_SD.csv', sep='\\t', index_col=\"No.\", dtype={\"Valence_Mean\": float})"
   ]
  },
  {
   "cell_type": "code",
   "execution_count": null,
   "metadata": {},
   "outputs": [],
   "source": [
    "CVAP['vector'] = list(map(ebs._get_possible_vector, tqdm(CVAP['Phrase'].values)))\n",
    "# CVAS['vector'] = list(map(ebs._get_possible_vector, tqdm(CVAS['Text'].values)))\n",
    "# CVAT['vector'] = list(map(ebs._get_possible_vector, tqdm(CVAT['Text'].values)))\n",
    "CVAW['vector'] = list(map(ebs._get_possible_vector, tqdm(CVAW['Word'].values)))"
   ]
  },
  {
   "cell_type": "code",
   "execution_count": null,
   "metadata": {},
   "outputs": [],
   "source": [
    "tmp = np.concatenate([\n",
    "    CVAP[CVAP.vector.notna()][[\"Phrase\", \"vector\", \"Valence_Mean\"]].to_numpy(),\n",
    "    # CVAS[CVAS.vector.notna()][[\"Text\", \"vector\", \"Valence_Mean\"]].to_numpy(),\n",
    "    # CVAT[CVAT.vector.notna()][[\"Text\", \"vector\", \"Valence_Mean\"]].to_numpy(),\n",
    "    CVAW[CVAW.vector.notna()][[\"Word\", \"vector\", \"Valence_Mean\"]].to_numpy()\n",
    "], axis=0)"
   ]
  },
  {
   "cell_type": "code",
   "execution_count": null,
   "metadata": {},
   "outputs": [],
   "source": [
    "tmp.shape"
   ]
  },
  {
   "cell_type": "code",
   "execution_count": null,
   "metadata": {},
   "outputs": [],
   "source": [
    "with open('bank.npy', 'wb') as f:\n",
    "    np.save(f, tmp)"
   ]
  },
  {
   "cell_type": "code",
   "execution_count": null,
   "metadata": {},
   "outputs": [],
   "source": [
    "from nlp2 import split_text_in_all_comb\n"
   ]
  },
  {
   "cell_type": "code",
   "execution_count": null,
   "metadata": {},
   "outputs": [],
   "source": [
    "split_text_in_all_comb(\"很多\")"
   ]
  },
  {
   "cell_type": "code",
   "execution_count": null,
   "metadata": {},
   "outputs": [],
   "source": [
    "ic.enable()"
   ]
  },
  {
   "cell_type": "code",
   "execution_count": null,
   "metadata": {},
   "outputs": [],
   "source": []
  }
 ],
 "metadata": {
  "kernelspec": {
   "display_name": "Python 3",
   "language": "python",
   "name": "python3"
  },
  "language_info": {
   "codemirror_mode": {
    "name": "ipython",
    "version": 3
   },
   "file_extension": ".py",
   "mimetype": "text/x-python",
   "name": "python",
   "nbconvert_exporter": "python",
   "pygments_lexer": "ipython3",
   "version": "3.11.10"
  }
 },
 "nbformat": 4,
 "nbformat_minor": 2
}
