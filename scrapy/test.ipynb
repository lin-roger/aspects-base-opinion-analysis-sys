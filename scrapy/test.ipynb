{
 "cells": [
  {
   "cell_type": "code",
   "execution_count": null,
   "metadata": {},
   "outputs": [],
   "source": [
    "from ptt_crawler import get_ptt_article_generator"
   ]
  },
  {
   "cell_type": "code",
   "execution_count": null,
   "metadata": {},
   "outputs": [],
   "source": [
    "# tmp = list(get_ptt_article_generator(\"test\", 'Gossiping', 10))"
   ]
  },
  {
   "cell_type": "code",
   "execution_count": null,
   "metadata": {},
   "outputs": [],
   "source": [
    "len(tmp)"
   ]
  },
  {
   "cell_type": "code",
   "execution_count": 1,
   "metadata": {},
   "outputs": [
    {
     "name": "stdout",
     "output_type": "stream",
     "text": [
      "Warning: transformers not installed. LLM will not work.\n"
     ]
    }
   ],
   "source": [
    "from dcard_crawler import DcardCrawler"
   ]
  },
  {
   "cell_type": "code",
   "execution_count": 2,
   "metadata": {},
   "outputs": [],
   "source": [
    "crawler=DcardCrawler()"
   ]
  },
  {
   "cell_type": "code",
   "execution_count": 3,
   "metadata": {},
   "outputs": [
    {
     "name": "stdout",
     "output_type": "stream",
     "text": [
      "0.0% duplicated\n",
      "0.2% duplicated\n",
      "0.3333333333333333% duplicated\n",
      "0.3684210526315789% duplicated\n",
      "0.5263157894736842% duplicated\n",
      "0.5833333333333334% duplicated\n",
      "0.6111111111111112% duplicated\n",
      "0.2% duplicated\n",
      "0.8% duplicated\n",
      "0.4375% duplicated\n",
      "0.3157894736842105% duplicated\n",
      "0.5333333333333333% duplicated\n",
      "0.21052631578947367% duplicated\n",
      "0.6923076923076923% duplicated\n",
      "0.0% duplicated\n",
      "0.6666666666666666% duplicated\n",
      "0.631578947368421% duplicated\n",
      "0.21052631578947367% duplicated\n",
      "0.45% duplicated\n",
      "0.3157894736842105% duplicated\n",
      "0.7142857142857143% duplicated\n",
      "0.65% duplicated\n",
      "0.35294117647058826% duplicated\n",
      "0.5333333333333333% duplicated\n",
      "0.65% duplicated\n",
      "0.2222222222222222% duplicated\n",
      "0.65% duplicated\n",
      "0.21052631578947367% duplicated\n",
      "0.8461538461538461% duplicated\n",
      "0.5625% duplicated\n",
      "0.2631578947368421% duplicated\n",
      "0.6% duplicated\n",
      "0.21052631578947367% duplicated\n",
      "0.7272727272727273% duplicated\n",
      "0.5625% duplicated\n",
      "0.2631578947368421% duplicated\n",
      "0.6% duplicated\n",
      "0.26666666666666666% duplicated\n",
      "0.5384615384615384% duplicated\n",
      "0.65% duplicated\n",
      "0.23529411764705882% duplicated\n"
     ]
    },
    {
     "ename": "KeyboardInterrupt",
     "evalue": "",
     "output_type": "error",
     "traceback": [
      "\u001b[1;31m---------------------------------------------------------------------------\u001b[0m",
      "\u001b[1;31mKeyboardInterrupt\u001b[0m                         Traceback (most recent call last)",
      "Cell \u001b[1;32mIn[3], line 1\u001b[0m\n\u001b[1;32m----> 1\u001b[0m tmp \u001b[38;5;241m=\u001b[39m \u001b[43mcrawler\u001b[49m\u001b[38;5;241;43m.\u001b[39;49m\u001b[43mget_article_info_list_from_board\u001b[49m\u001b[43m(\u001b[49m\u001b[43mleast_n_days\u001b[49m\u001b[38;5;241;43m=\u001b[39;49m\u001b[38;5;241;43m30\u001b[39;49m\u001b[43m)\u001b[49m\n",
      "File \u001b[1;32mc:\\Users\\selab\\Documents\\undergraduate-senior-project\\main\\scrapy\\dcard_crawler.py:121\u001b[0m, in \u001b[0;36mDcardCrawler.get_article_info_list_from_board\u001b[1;34m(self, board, least_n_days)\u001b[0m\n\u001b[0;32m    119\u001b[0m \u001b[38;5;66;03m# y = 0\u001b[39;00m\n\u001b[0;32m    120\u001b[0m \u001b[38;5;28;01mwhile\u001b[39;00m flag \u001b[38;5;241m<\u001b[39m \u001b[38;5;241m10\u001b[39m:\n\u001b[1;32m--> 121\u001b[0m     \u001b[43mtab\u001b[49m\u001b[38;5;241;43m.\u001b[39;49m\u001b[43mwait\u001b[49m\u001b[43m(\u001b[49m\u001b[38;5;241;43m0.5\u001b[39;49m\u001b[43m)\u001b[49m\n\u001b[0;32m    122\u001b[0m     aList \u001b[38;5;241m=\u001b[39m tab\u001b[38;5;241m.\u001b[39ms_eles(\u001b[38;5;124m\"\u001b[39m\u001b[38;5;124mtag=article\u001b[39m\u001b[38;5;124m\"\u001b[39m)\n\u001b[0;32m    123\u001b[0m     \u001b[38;5;66;03m# print(len(aList))\u001b[39;00m\n\u001b[0;32m    124\u001b[0m     \u001b[38;5;66;03m# tab.ele(\"tag:div@text()=重新載入\")\u001b[39;00m\n",
      "File \u001b[1;32mc:\\Users\\selab\\Documents\\undergraduate-senior-project\\main\\.venv\\Lib\\site-packages\\DrissionPage\\_units\\waiter.py:21\u001b[0m, in \u001b[0;36mOriginWaiter.__call__\u001b[1;34m(self, second, scope)\u001b[0m\n\u001b[0;32m     19\u001b[0m \u001b[38;5;28;01mdef\u001b[39;00m \u001b[38;5;21m__call__\u001b[39m(\u001b[38;5;28mself\u001b[39m, second, scope\u001b[38;5;241m=\u001b[39m\u001b[38;5;28;01mNone\u001b[39;00m):\n\u001b[0;32m     20\u001b[0m     \u001b[38;5;28;01mif\u001b[39;00m scope \u001b[38;5;129;01mis\u001b[39;00m \u001b[38;5;28;01mNone\u001b[39;00m:\n\u001b[1;32m---> 21\u001b[0m         sleep(second)\n\u001b[0;32m     22\u001b[0m     \u001b[38;5;28;01melse\u001b[39;00m:\n\u001b[0;32m     23\u001b[0m         \u001b[38;5;28;01mfrom\u001b[39;00m \u001b[38;5;21;01mrandom\u001b[39;00m \u001b[38;5;28;01mimport\u001b[39;00m uniform\n",
      "\u001b[1;31mKeyboardInterrupt\u001b[0m: "
     ]
    }
   ],
   "source": [
    "tmp = crawler.get_article_info_list_from_board(least_n_days=30)"
   ]
  },
  {
   "cell_type": "code",
   "execution_count": null,
   "metadata": {},
   "outputs": [],
   "source": [
    "len(tmp)"
   ]
  },
  {
   "cell_type": "code",
   "execution_count": null,
   "metadata": {},
   "outputs": [],
   "source": [
    "tmp[-1]"
   ]
  },
  {
   "cell_type": "code",
   "execution_count": null,
   "metadata": {},
   "outputs": [],
   "source": []
  }
 ],
 "metadata": {
  "kernelspec": {
   "display_name": ".venv",
   "language": "python",
   "name": "python3"
  },
  "language_info": {
   "codemirror_mode": {
    "name": "ipython",
    "version": 3
   },
   "file_extension": ".py",
   "mimetype": "text/x-python",
   "name": "python",
   "nbconvert_exporter": "python",
   "pygments_lexer": "ipython3",
   "version": "3.11.4"
  }
 },
 "nbformat": 4,
 "nbformat_minor": 2
}
