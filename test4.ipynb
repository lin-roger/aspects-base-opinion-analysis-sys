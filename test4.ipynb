{
 "cells": [
  {
   "cell_type": "code",
   "execution_count": 30,
   "metadata": {},
   "outputs": [],
   "source": [
    "from elasticsearch import Elasticsearch, helpers\n",
    "from collections import defaultdict\n",
    "from dateutil.parser import parse"
   ]
  },
  {
   "cell_type": "code",
   "execution_count": 4,
   "metadata": {},
   "outputs": [],
   "source": [
    "es = Elasticsearch(\n",
    "    \"http://127.0.0.1:9200\",\n",
    "    verify_certs=False,\n",
    "    basic_auth=(\"elastic\", \"123456\"),\n",
    ")\n",
    "idx = \"docs\""
   ]
  },
  {
   "cell_type": "code",
   "execution_count": 10,
   "metadata": {},
   "outputs": [
    {
     "data": {
      "text/plain": [
       "{'docs': {'mappings': {'properties': {'borad': {'type': 'keyword'},\n",
       "    'comments': {'type': 'nested',\n",
       "     'properties': {'content': {'type': 'text',\n",
       "       'analyzer': 'ik_max_word_plus',\n",
       "       'search_analyzer': 'ik_smart_plus'},\n",
       "      'content_aste': {'type': 'nested',\n",
       "       'properties': {'a': {'type': 'keyword'},\n",
       "        'o': {'type': 'keyword'},\n",
       "        'p': {'type': 'float'}}},\n",
       "      'date': {'type': 'date', 'format': 'yyyy-MM-dd HH:mm:ss.SSS'},\n",
       "      'username': {'type': 'text',\n",
       "       'analyzer': 'ik_max_word_plus',\n",
       "       'search_analyzer': 'ik_smart_plus'}}},\n",
       "    'context': {'type': 'text',\n",
       "     'analyzer': 'ik_max_word_plus',\n",
       "     'search_analyzer': 'ik_smart_plus'},\n",
       "    'context_aste': {'type': 'nested',\n",
       "     'properties': {'a': {'type': 'keyword'},\n",
       "      'o': {'type': 'keyword'},\n",
       "      'p': {'type': 'keyword'}}},\n",
       "    'context_vector': {'type': 'dense_vector',\n",
       "     'dims': 1792,\n",
       "     'index': True,\n",
       "     'similarity': 'cosine',\n",
       "     'index_options': {'type': 'int8_hnsw', 'm': 16, 'ef_construction': 100}},\n",
       "    'crawl_time': {'type': 'date', 'format': 'yyyy-MM-dd HH:mm:ss.SSS'},\n",
       "    'date': {'type': 'date', 'format': 'yyyy-MM-dd HH:mm:ss.SSS'},\n",
       "    'link': {'type': 'keyword', 'index': False},\n",
       "    'model_id': {'type': 'text',\n",
       "     'fields': {'keyword': {'type': 'keyword', 'ignore_above': 256}}},\n",
       "    'platform': {'type': 'keyword'},\n",
       "    'status_code': {'type': 'keyword'},\n",
       "    'title': {'type': 'text',\n",
       "     'analyzer': 'ik_max_word_plus',\n",
       "     'search_analyzer': 'ik_smart_plus'},\n",
       "    'title_aste': {'type': 'nested',\n",
       "     'properties': {'a': {'type': 'keyword'},\n",
       "      'o': {'type': 'keyword'},\n",
       "      'p': {'type': 'float'}}},\n",
       "    'title_vector': {'type': 'dense_vector',\n",
       "     'dims': 1792,\n",
       "     'index': True,\n",
       "     'similarity': 'cosine',\n",
       "     'index_options': {'type': 'int8_hnsw',\n",
       "      'm': 16,\n",
       "      'ef_construction': 100}}}}}}"
      ]
     },
     "execution_count": 10,
     "metadata": {},
     "output_type": "execute_result"
    }
   ],
   "source": [
    "es.indices.get_mapping(index=idx).body"
   ]
  },
  {
   "cell_type": "code",
   "execution_count": 20,
   "metadata": {},
   "outputs": [],
   "source": [
    "body = {\n",
    "    \"_source\": False,\n",
    "    \"query\": {\n",
    "        \"match_all\": {},\n",
    "    },\n",
    "    \"fields\": [\"link\", \"crawl_time\"],\n",
    "}\n",
    "res = list(helpers.scan(es, query=body, index=idx))"
   ]
  },
  {
   "cell_type": "code",
   "execution_count": 32,
   "metadata": {},
   "outputs": [],
   "source": [
    "dd = defaultdict(list)"
   ]
  },
  {
   "cell_type": "code",
   "execution_count": 33,
   "metadata": {},
   "outputs": [],
   "source": [
    "for i in res:\n",
    "    dd[i[\"fields\"][\"link\"][0]].append((i[\"_id\"], parse(i[\"fields\"][\"crawl_time\"][0])))"
   ]
  },
  {
   "cell_type": "code",
   "execution_count": 42,
   "metadata": {},
   "outputs": [],
   "source": [
    "del_ids_list = []\n",
    "for k, v in dd.items():\n",
    "    if len(v) > 1:\n",
    "        tmp = list(zip(*v))\n",
    "        argmax = tmp[1].index(max(tmp[1]))\n",
    "        del_ids = list(tmp[0])\n",
    "        del_ids.pop(argmax)\n",
    "        del_ids_list.extend(del_ids)"
   ]
  },
  {
   "cell_type": "code",
   "execution_count": 45,
   "metadata": {},
   "outputs": [],
   "source": [
    "def gen_del_body(del_ids_list):\n",
    "    for i in del_ids_list:\n",
    "        yield {\n",
    "            \"_op_type\": \"delete\",\n",
    "            \"_index\": idx,\n",
    "            \"_id\": i,\n",
    "        }"
   ]
  },
  {
   "cell_type": "code",
   "execution_count": 46,
   "metadata": {},
   "outputs": [
    {
     "data": {
      "text/plain": [
       "(5254, [])"
      ]
     },
     "execution_count": 46,
     "metadata": {},
     "output_type": "execute_result"
    }
   ],
   "source": [
    "helpers.bulk(es, gen_del_body(del_ids_list))"
   ]
  },
  {
   "cell_type": "code",
   "execution_count": null,
   "metadata": {},
   "outputs": [],
   "source": []
  }
 ],
 "metadata": {
  "kernelspec": {
   "display_name": ".venv",
   "language": "python",
   "name": "python3"
  },
  "language_info": {
   "codemirror_mode": {
    "name": "ipython",
    "version": 3
   },
   "file_extension": ".py",
   "mimetype": "text/x-python",
   "name": "python",
   "nbconvert_exporter": "python",
   "pygments_lexer": "ipython3",
   "version": "3.11.4"
  }
 },
 "nbformat": 4,
 "nbformat_minor": 2
}
